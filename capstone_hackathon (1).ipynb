{
  "cells": [
    {
      "cell_type": "markdown",
      "metadata": {
        "id": "VTvr4_sti9Am"
      },
      "source": [
        "# Inroduction\n"
      ]
    },
    {
      "cell_type": "markdown",
      "metadata": {
        "id": "Rm8HKcygh4L2"
      },
      "source": [
        "starting the capstone project Here --\n"
      ]
    },
    {
      "cell_type": "code",
      "execution_count": null,
      "metadata": {
        "id": "LlwkKnB50IGF"
      },
      "outputs": [],
      "source": [
        "!pip install pathway bokeh --quiet # This cell may take a few seconds to execute."
      ]
    },
    {
      "cell_type": "code",
      "execution_count": null,
      "metadata": {
        "id": "pHuc1nkJveN3"
      },
      "outputs": [],
      "source": [
        "import numpy as np\n",
        "import pandas as pd\n",
        "import matplotlib.pyplot as plt\n",
        "import datetime\n",
        "from datetime import datetime\n",
        "import pathway as pw\n",
        "import bokeh.plotting\n",
        "import panel as pn"
      ]
    },
    {
      "cell_type": "markdown",
      "metadata": {
        "id": "gGpZl1FxjFXE"
      },
      "source": [
        "# Step 1: Importing and Preprocessing the Data"
      ]
    },
    {
      "cell_type": "code",
      "execution_count": null,
      "metadata": {
        "id": "4D6geoV9veN3"
      },
      "outputs": [],
      "source": [
        "#importing the parking data csv file to dataframe\n",
        "df = pd.read_csv('dataset.csv')"
      ]
    },
    {
      "cell_type": "code",
      "execution_count": null,
      "metadata": {
        "id": "QBrvlQTjveN4"
      },
      "outputs": [],
      "source": [
        "# Combine the 'LastUpdatedDate' and 'LastUpdatedTime' columns into a single datetime column\n",
        "df['Timestamp'] = pd.to_datetime(df['LastUpdatedDate'] + ' ' + df['LastUpdatedTime'],\n",
        "                                  format='%d-%m-%Y %H:%M:%S')\n",
        "\n",
        "# Sort the DataFrame by the new 'Timestamp' column and reset the index\n",
        "df = df.sort_values('Timestamp').reset_index(drop=True)\n",
        "print(df['VehicleType'].unique())\n",
        "print(df['TrafficConditionNearby'].unique())\n",
        "\n",
        "df.head()"
      ]
    },
    {
      "cell_type": "code",
      "source": [
        "from sklearn.preprocessing import OrdinalEncoder\n",
        "\n",
        "#encoding the vehicles column to numbers by ordinal encoder\n",
        "encoder1 = OrdinalEncoder(categories=[['car' , 'bike'  ,'cycle' ,'truck']])\n",
        "#encoding the traffic condition  column to numbers by ordinal encoder\n",
        "encoder2 = OrdinalEncoder(categories=[['low' ,'average', 'high']])\n",
        "df['VehicleType'] = encoder1.fit_transform(df[['VehicleType']])\n",
        "df['TrafficConditionNearby'] = encoder2.fit_transform(df[['TrafficConditionNearby']])\n",
        "df['VehicleType'] = df['VehicleType'].astype(int)\n",
        "df['TrafficConditionNearby'] = df['TrafficConditionNearby'].astype(int)\n",
        "df.head()\n"
      ],
      "metadata": {
        "id": "OpktvLjuOcds"
      },
      "execution_count": null,
      "outputs": []
    },
    {
      "cell_type": "code",
      "source": [
        "df.columns"
      ],
      "metadata": {
        "id": "LgLuYg8B3NnA"
      },
      "execution_count": null,
      "outputs": []
    },
    {
      "cell_type": "code",
      "source": [
        "# Save the selected columns to a CSV file for streaming or downstream processing\n",
        "df[[\"Timestamp\", \"Occupancy\", \"Capacity\",\"Latitude\",\"Longitude\",\"VehicleType\",\"TrafficConditionNearby\",\"QueueLength\",\"IsSpecialDay\"]].to_csv(\"parking_stream.csv\", index=False)\n"
      ],
      "metadata": {
        "id": "r_16Djo93GUG"
      },
      "execution_count": null,
      "outputs": []
    },
    {
      "cell_type": "code",
      "execution_count": null,
      "metadata": {
        "id": "H0pe3TGIyKJE"
      },
      "outputs": [],
      "source": [
        "# the schema for the streaming data using Pathway\n",
        "# This schema specifies the expected structure of each data row in the stream\n",
        "\n",
        "class ParkingSchema(pw.Schema):\n",
        "    Timestamp: str   # Timestamp of the observation (should ideally be in ISO format)\n",
        "    Occupancy: int   # Number of occupied parking spots\n",
        "    Capacity: int    # Total parking capacity at the location\n",
        "    Latitude :float  # latitude of the parking space\n",
        "    Longitude : float # longitude of the parking space\n",
        "    VehicleType : int # type of vehicle\n",
        "    TrafficConditionNearby : int # type of the traffic condition nearby\n",
        "    QueueLength : int # specifies the no. of vehicles in the waiting area\n",
        "    IsSpecialDay : int # specifies whether the day is a special day or not\n"
      ]
    },
    {
      "cell_type": "code",
      "execution_count": null,
      "metadata": {
        "id": "a4LxMh4xziMv"
      },
      "outputs": [],
      "source": [
        "# Load the data as a simulated stream using Pathway's replay_csv function\n",
        "# This replays the CSV data at a controlled input rate to mimic real-time streaming\n",
        "# input_rate=1000 means approximately 1000 rows per second will be ingested into the stream.\n",
        "\n",
        "data = pw.demo.replay_csv(\"parking_stream.csv\", schema=ParkingSchema, input_rate=1000)"
      ]
    },
    {
      "cell_type": "code",
      "execution_count": null,
      "metadata": {
        "id": "IkBP_AA-zjec"
      },
      "outputs": [],
      "source": [
        "# Define the datetime format to parse the 'Timestamp' column\n",
        "fmt = \"%Y-%m-%d %H:%M:%S\"\n",
        "\n",
        "# Add new columns to the data stream:\n",
        "# - 't' contains the parsed full datetime\n",
        "# - 'day' extracts the date part and resets the time to midnight (useful for day-level aggregations)\n",
        "data_with_time = data.with_columns(\n",
        "    t = data.Timestamp.dt.strptime(fmt),\n",
        "    day = data.Timestamp.dt.strptime(fmt).dt.strftime(\"%Y-%m-%dT00:00:00\")\n",
        ")\n"
      ]
    },
    {
      "cell_type": "markdown",
      "metadata": {
        "id": "JNDR7r4DqkhI"
      },
      "source": [
        "# Step 2: Making a simple pricing function"
      ]
    },
    {
      "cell_type": "code",
      "execution_count": null,
      "metadata": {
        "id": "MznsSjanveN5"
      },
      "outputs": [],
      "source": [
        "# Define a daily tumbling window over the data stream using Pathway\n",
        "# This block performs temporal aggregation and computes a dynamic price for each day\n",
        "import datetime\n",
        "\n",
        "delta_window = (\n",
        "    data_with_time.windowby(\n",
        "        pw.this.t,  # Event time column to use for windowing (parsed datetime)\n",
        "        instance=pw.this.day,  # Logical partitioning key: one instance per calendar day\n",
        "        window=pw.temporal.tumbling(datetime.timedelta(days=1)),  # Fixed-size daily window\n",
        "        behavior=pw.temporal.exactly_once_behavior()  # Guarantees exactly-once processing semantics\n",
        "    )\n",
        "    .reduce(\n",
        "        t=pw.this._pw_window_end,                        # Assign the end timestamp of each window\n",
        "        occ_max=pw.reducers.max(pw.this.Occupancy),      # Highest occupancy observed in the window\n",
        "        occ_min=pw.reducers.min(pw.this.Occupancy),      # Lowest occupancy observed in the window\n",
        "        cap=pw.reducers.max(pw.this.Capacity),           # Maximum capacity observed (typically constant per spot)\n",
        "    )\n",
        "    .with_columns(\n",
        "        # Compute the price using a simple dynamic pricing formula:\n",
        "        #\n",
        "        # Pricing Formula:\n",
        "        #     price = base_price + demand_fluctuation\n",
        "        #     where:\n",
        "        #         base_price = 10 (fixed minimum price)\n",
        "        #         demand_fluctuation = (occ_max - occ_min) / cap\n",
        "        #\n",
        "        # Intuition:\n",
        "        # - The greater the difference between peak and low occupancy in a day,\n",
        "        #   the more volatile the demand is, indicating potential scarcity.\n",
        "        # - Dividing by capacity normalizes the fluctuation (to stay in [0,1] range).\n",
        "        # - This fluctuation is added to the base price of 10 to set the final price.\n",
        "        # - Example: If occ_max = 90, occ_min = 30, cap = 100\n",
        "        #            => price = 10 + (90 - 30)/100 = 10 + 0.6 = 10.6\n",
        "\n",
        "        price=10 + (pw.this.occ_max - pw.this.occ_min) / pw.this.cap\n",
        "    )\n",
        ")\n"
      ]
    },
    {
      "cell_type": "markdown",
      "source": [
        "# model 2\n"
      ],
      "metadata": {
        "id": "yYGBp8Otmhwv"
      }
    },
    {
      "cell_type": "code",
      "source": [],
      "metadata": {
        "id": "2uFg9-27_yPf"
      },
      "execution_count": null,
      "outputs": []
    },
    {
      "cell_type": "code",
      "source": [
        "import datetime\n",
        "\n",
        "delta_window_model2 = (\n",
        "    data_with_time.windowby( #this groups the data time by time and day by day\n",
        "                            #ensures that all the day goes through day by day\n",
        "        pw.this.t,    # event time\n",
        "        instance=pw.this.day,   # partition by day\n",
        "        window=pw.temporal.tumbling(datetime.timedelta(days=1)),\n",
        "        behavior=pw.temporal.exactly_once_behavior()  # correct spelling!\n",
        "    )\n",
        "    #this tells the pathway to summarise the day's data\n",
        "\n",
        "    .reduce(\n",
        "    t=pw.this._pw_window_end,\n",
        "    occ_max=pw.reducers.max(pw.this.Occupancy),\n",
        "    cap=pw.reducers.max(pw.this.Capacity),\n",
        "    queue_avg=pw.reducers.avg(pw.this.QueueLength),\n",
        "    traffic_value=pw.reducers.max(pw.this.TrafficConditionNearby),\n",
        "    vehicle_value=pw.reducers.max(pw.this.VehicleType),\n",
        "    special_flag=pw.reducers.max(pw.this.IsSpecialDay),\n",
        "\n",
        ")\n",
        ".with_columns(\n",
        "\n",
        "\n",
        "#the pricing model is written below\n",
        "\n",
        "\n",
        "\n",
        "# Intuition:\n",
        "# This pricing model is designed such that the dynamic parking price will always stay\n",
        "# in the range of 10 to 20 rupees, depending on several key factors:\n",
        "#\n",
        "# - Availability of spaces relative to total capacity (occupancy rate)\n",
        "# - Average queue length at the time interval\n",
        "# - Traffic condition nearby (encoded as low=0, average=1, high=2)\n",
        "# - Type of vehicle (car, bike, cycle, truck encoded as 0-3)\n",
        "# - Whether the day is a special day or a regular working day (special flag)\n",
        "#\n",
        "# The occupancy rate is considered the strongest driver of price,\n",
        "# followed by the average queue length.\n",
        "#\n",
        "# The traffic value has a negative impact on demand: worse traffic (higher number)\n",
        "# slightly reduces the demand, so it subtracts from the demand function.\n",
        "# The vehicle type and special day contribute positively,\n",
        "# slightly raising the demand and thus the price.\n",
        "#\n",
        "# The overall demand function is defined as:\n",
        "# demand = (\n",
        "#    0.6 * (pw.this.occ_max / pw.this.cap) +\n",
        "#    0.3 * (pw.this.queue_avg / 10) -\n",
        "#    0.1 * pw.this.traffic_value +\n",
        "#    0.1 * pw.this.vehicle_value +\n",
        "#    0.05 * pw.this.special_flag\n",
        "# )\n",
        "#\n",
        "# Since this demand is roughly normalized between 0 and 1\n",
        "# (via inline normalization in the formula),\n",
        "# we compute the final price as:\n",
        "# price = 10 + 10 * demand\n",
        "#\n",
        "# This ensures the final dynamic parking price will always stay\n",
        "# approximately in the range of 10 to 20 rupees,\n",
        "# depending on all these influencing factors.\n",
        "\n",
        "\n",
        "    price = 10 + 10 * (\n",
        "        (\n",
        "            0.6 * (pw.this.occ_max / pw.this.cap) +\n",
        "            0.3 * (pw.this.queue_avg / 10) -\n",
        "            0.1 * pw.this.traffic_value +\n",
        "            0.1 * pw.this.vehicle_value +\n",
        "            0.05 * pw.this.special_flag\n",
        "            - 0.1\n",
        "        ) / 1.1\n",
        "    )\n",
        "\n",
        "\n",
        ")\n",
        "\n",
        ")\n"
      ],
      "metadata": {
        "id": "fwUdS8mATOon"
      },
      "execution_count": null,
      "outputs": []
    },
    {
      "cell_type": "markdown",
      "metadata": {
        "id": "E3sMSFtUqvax"
      },
      "source": [
        "# Step 3: Visualizing Daily Price Fluctuations with a Bokeh Plot"
      ]
    },
    {
      "cell_type": "markdown",
      "metadata": {
        "id": "POd-S7QMo9JA"
      },
      "source": [
        "**Note:** The Bokeh plot in the next cell will only be generated after you run the `pw.run()` cell (i.e., the final cell).\n"
      ]
    },
    {
      "cell_type": "code",
      "execution_count": null,
      "metadata": {
        "id": "fOL3BJcGveN5"
      },
      "outputs": [],
      "source": [
        "# Activate the Panel extension to enable interactive visualizations\n",
        "pn.extension()\n",
        "\n",
        "# Define a custom Bokeh plotting function that takes a data source (from Pathway) and returns a figure\n",
        "def price_plotter(source):\n",
        "    # Create a Bokeh figure with datetime x-axis\n",
        "    fig = bokeh.plotting.figure(\n",
        "        height=400,\n",
        "        width=800,\n",
        "        title=\"Pathway: Daily Parking Price\",\n",
        "        x_axis_type=\"datetime\",  # Ensure time-based data is properly formatted on the x-axis\n",
        "    )\n",
        "    # Plot a line graph showing how the price evolves over time\n",
        "    fig.line(\"t\", \"price\", source=source, line_width=2, color=\"navy\")\n",
        "\n",
        "    # Overlay red circles at each data point for better visibility\n",
        "    fig.circle(\"t\", \"price\", source=source, size=6, color=\"red\")\n",
        "\n",
        "    return fig\n",
        "\n",
        "# Use Pathway's built-in .plot() method to bind the data stream (delta_window) to the Bokeh plot\n",
        "# - 'price_plotter' is the rendering function\n",
        "# - 'sorting_col=\"t\"' ensures the data is plotted in time order\n",
        "# viz = delta_window.plot(price_plotter, sorting_col=\"t\")\n",
        "\n",
        "# # Create a Panel layout and make it servable as a web app\n",
        "# # This line enables the interactive plot to be displayed when the app is served\n",
        "# pn.Column(viz).servable()\n",
        "\n",
        "# # for model 2\n",
        "# viz2 = delta_window_model2.plot(price_plotter , sorting_col=\"t\");\n",
        "# pn.Column(viz2).servable()\n",
        "\n",
        "viz1 = delta_window.plot(price_plotter, sorting_col=\"t\")        # Model 1\n",
        "viz2 = delta_window_model2.plot(price_plotter, sorting_col=\"t\") # Model 2\n",
        "\n",
        "pn.Row(viz1, viz2).servable()\n"
      ]
    },
    {
      "cell_type": "code",
      "execution_count": null,
      "metadata": {
        "id": "0IHWGcX6veN6"
      },
      "outputs": [],
      "source": [
        "# Start the Pathway pipeline execution in the background\n",
        "# - This triggers the real-time data stream processing defined above\n",
        "# - %%capture --no-display suppresses output in the notebook interface\n",
        "\n",
        "%%capture --no-display\n",
        "pw.run()"
      ]
    },
    {
      "cell_type": "code",
      "execution_count": null,
      "metadata": {
        "id": "pklSMqmRp1Gh"
      },
      "outputs": [],
      "source": []
    }
  ],
  "metadata": {
    "colab": {
      "provenance": []
    },
    "kaggle": {
      "accelerator": "none",
      "dataSources": [
        {
          "datasetId": 7749157,
          "sourceId": 12294858,
          "sourceType": "datasetVersion"
        }
      ],
      "dockerImageVersionId": 31040,
      "isGpuEnabled": false,
      "isInternetEnabled": true,
      "language": "python",
      "sourceType": "notebook"
    },
    "kernelspec": {
      "display_name": "Python 3",
      "language": "python",
      "name": "python3"
    },
    "language_info": {
      "codemirror_mode": {
        "name": "ipython",
        "version": 3
      },
      "file_extension": ".py",
      "mimetype": "text/x-python",
      "name": "python",
      "nbconvert_exporter": "python",
      "pygments_lexer": "ipython3",
      "version": "3.11.11"
    }
  },
  "nbformat": 4,
  "nbformat_minor": 0
}